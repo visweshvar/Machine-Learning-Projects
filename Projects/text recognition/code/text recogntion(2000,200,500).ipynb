{
 "cells": [
  {
   "cell_type": "code",
   "execution_count": 1,
   "id": "1b7778da-ab80-49bb-8414-d81ab84fadd6",
   "metadata": {},
   "outputs": [],
   "source": [
    "import numpy as np\n",
    "import pandas as pd\n",
    "from PIL import Image as pilImg\n",
    "from PIL import Image\n",
    "import os \n",
    "import cv2\n",
    "from datetime import datetime\n",
    "import matplotlib.pyplot as plt\n",
    "import itertools\n",
    "from sklearn.model_selection import train_test_split\n",
    "\n",
    "from nltk.tokenize import word_tokenize\n",
    "from tensorflow.keras.preprocessing.sequence import pad_sequences"
   ]
  },
  {
   "cell_type": "code",
   "execution_count": 2,
   "id": "c8f2167b-1617-432c-af1b-02bac1f1b734",
   "metadata": {},
   "outputs": [],
   "source": [
    "char_list = 'abcdefghijklmnopqrstuvwxyzABCDEFGHIJKLMNOPQRSTUVWXYZ0123456789!\\\"#$%&\\'()*+,-./:;<=>?@[\\\\]^_`{|}~ ' # 95 chars\n",
    "vocabulary = sorted(set(char_list))\n",
    "\n",
    "char_to_index = {char: i for i, char in enumerate(vocabulary)}\n",
    "index_to_char = {i: char for char, i in char_to_index.items()}\n",
    "#image height\n",
    "img_h=32\n",
    "#image width\n",
    "img_w=170\n",
    "#image Channels\n",
    "img_c=1\n",
    "# classes for softmax with number of letters +1 for blank space in ctc\n",
    "num_classes=len(char_list)+1\n",
    "batch_size=64\n",
    "max_length=14 # considering max length of ground truths labels to be 15\n"
   ]
  },
  {
   "cell_type": "markdown",
   "id": "0ae854cb-b53a-4807-8814-c404fd61b2fe",
   "metadata": {},
   "source": [
    "Loading Training,Testing and Validation images"
   ]
  },
  {
   "cell_type": "code",
   "execution_count": 3,
   "id": "3849052d-2f5f-4cc3-933e-becfe7ffed00",
   "metadata": {},
   "outputs": [
    {
     "data": {
      "text/html": [
       "<div>\n",
       "<style scoped>\n",
       "    .dataframe tbody tr th:only-of-type {\n",
       "        vertical-align: middle;\n",
       "    }\n",
       "\n",
       "    .dataframe tbody tr th {\n",
       "        vertical-align: top;\n",
       "    }\n",
       "\n",
       "    .dataframe thead th {\n",
       "        text-align: right;\n",
       "    }\n",
       "</style>\n",
       "<table border=\"1\" class=\"dataframe\">\n",
       "  <thead>\n",
       "    <tr style=\"text-align: right;\">\n",
       "      <th></th>\n",
       "      <th>ImageName</th>\n",
       "      <th>Labels</th>\n",
       "    </tr>\n",
       "  </thead>\n",
       "  <tbody>\n",
       "    <tr>\n",
       "      <th>0</th>\n",
       "      <td>SynthImageDataset/2425/1/115_Lube_45484.jpg</td>\n",
       "      <td>LUBE</td>\n",
       "    </tr>\n",
       "    <tr>\n",
       "      <th>1</th>\n",
       "      <td>SynthImageDataset/2425/1/114_Spencerian_73323.jpg</td>\n",
       "      <td>SPENCERIAN</td>\n",
       "    </tr>\n",
       "    <tr>\n",
       "      <th>2</th>\n",
       "      <td>SynthImageDataset/2425/1/112_CARPENTER_11682.jpg</td>\n",
       "      <td>CARPENTER</td>\n",
       "    </tr>\n",
       "    <tr>\n",
       "      <th>3</th>\n",
       "      <td>SynthImageDataset/2425/1/110_savannas_67969.jpg</td>\n",
       "      <td>SAVANNAS</td>\n",
       "    </tr>\n",
       "    <tr>\n",
       "      <th>4</th>\n",
       "      <td>SynthImageDataset/2425/1/109_unfix_82473.jpg</td>\n",
       "      <td>UNFIX</td>\n",
       "    </tr>\n",
       "  </tbody>\n",
       "</table>\n",
       "</div>"
      ],
      "text/plain": [
       "                                           ImageName      Labels\n",
       "0        SynthImageDataset/2425/1/115_Lube_45484.jpg        LUBE\n",
       "1  SynthImageDataset/2425/1/114_Spencerian_73323.jpg  SPENCERIAN\n",
       "2   SynthImageDataset/2425/1/112_CARPENTER_11682.jpg   CARPENTER\n",
       "3    SynthImageDataset/2425/1/110_savannas_67969.jpg    SAVANNAS\n",
       "4       SynthImageDataset/2425/1/109_unfix_82473.jpg       UNFIX"
      ]
     },
     "execution_count": 3,
     "metadata": {},
     "output_type": "execute_result"
    }
   ],
   "source": [
    "train_images_path = pd.read_csv(r\"Train_Final.csv\",nrows = 2000)\n",
    "train_images_path.drop(['Unnamed: 0'],axis = 1 , inplace = True)\n",
    "train_images_path.head()"
   ]
  },
  {
   "cell_type": "code",
   "execution_count": 4,
   "id": "006ccc51-72e2-4379-bdb3-b7e14283bb51",
   "metadata": {},
   "outputs": [],
   "source": [
    "# Loading Training Images\n",
    "tra_image_paths = train_images_path['ImageName']\n",
    "train_labels = train_images_path['Labels'].values"
   ]
  },
  {
   "cell_type": "code",
   "execution_count": 5,
   "id": "fed953a2-10e1-45ea-bfc6-83b667548405",
   "metadata": {},
   "outputs": [
    {
     "name": "stdout",
     "output_type": "stream",
     "text": [
      "Number of training images: 2000\n",
      "Number of labels: 2000\n"
     ]
    }
   ],
   "source": [
    "print(\"Number of training images:\", len(tra_image_paths))\n",
    "print(\"Number of labels:\", len(train_labels))\n"
   ]
  },
  {
   "cell_type": "code",
   "execution_count": 6,
   "id": "ead12830-018a-41d4-aee5-6af03e1de748",
   "metadata": {},
   "outputs": [
    {
     "data": {
      "text/html": [
       "<div>\n",
       "<style scoped>\n",
       "    .dataframe tbody tr th:only-of-type {\n",
       "        vertical-align: middle;\n",
       "    }\n",
       "\n",
       "    .dataframe tbody tr th {\n",
       "        vertical-align: top;\n",
       "    }\n",
       "\n",
       "    .dataframe thead th {\n",
       "        text-align: right;\n",
       "    }\n",
       "</style>\n",
       "<table border=\"1\" class=\"dataframe\">\n",
       "  <thead>\n",
       "    <tr style=\"text-align: right;\">\n",
       "      <th></th>\n",
       "      <th>ImageName</th>\n",
       "      <th>Labels</th>\n",
       "    </tr>\n",
       "  </thead>\n",
       "  <tbody>\n",
       "    <tr>\n",
       "      <th>0</th>\n",
       "      <td>SynthImageDataset/2697/6/466_MONIKER_49537.jpg</td>\n",
       "      <td>MONIKER</td>\n",
       "    </tr>\n",
       "    <tr>\n",
       "      <th>1</th>\n",
       "      <td>SynthImageDataset/2697/6/464_FIRESTORM_29099.jpg</td>\n",
       "      <td>FIRESTORM</td>\n",
       "    </tr>\n",
       "    <tr>\n",
       "      <th>2</th>\n",
       "      <td>SynthImageDataset/2697/6/462_Repurchases_64997...</td>\n",
       "      <td>REPURCHASES</td>\n",
       "    </tr>\n",
       "    <tr>\n",
       "      <th>3</th>\n",
       "      <td>SynthImageDataset/2697/6/461_PIGTAIL_57575.jpg</td>\n",
       "      <td>PIGTAIL</td>\n",
       "    </tr>\n",
       "    <tr>\n",
       "      <th>4</th>\n",
       "      <td>SynthImageDataset/2697/6/460_landladies_43270.jpg</td>\n",
       "      <td>LANDLADIES</td>\n",
       "    </tr>\n",
       "  </tbody>\n",
       "</table>\n",
       "</div>"
      ],
      "text/plain": [
       "                                           ImageName       Labels\n",
       "0     SynthImageDataset/2697/6/466_MONIKER_49537.jpg      MONIKER\n",
       "1   SynthImageDataset/2697/6/464_FIRESTORM_29099.jpg    FIRESTORM\n",
       "2  SynthImageDataset/2697/6/462_Repurchases_64997...  REPURCHASES\n",
       "3     SynthImageDataset/2697/6/461_PIGTAIL_57575.jpg      PIGTAIL\n",
       "4  SynthImageDataset/2697/6/460_landladies_43270.jpg   LANDLADIES"
      ]
     },
     "execution_count": 6,
     "metadata": {},
     "output_type": "execute_result"
    }
   ],
   "source": [
    "validation_images_path = pd.read_csv(r\"Validation_Final.csv\",nrows = 200)\n",
    "validation_images_path.drop(['Unnamed: 0'],axis = 1 , inplace = True)\n",
    "validation_images_path.head()"
   ]
  },
  {
   "cell_type": "code",
   "execution_count": 7,
   "id": "49a4811c-87b9-46b2-989c-e8ef6241ed5e",
   "metadata": {},
   "outputs": [],
   "source": [
    "# Loading Validation Images\n",
    "valid_image_paths = validation_images_path['ImageName']\n",
    "valid_labels = validation_images_path['Labels'].values"
   ]
  },
  {
   "cell_type": "code",
   "execution_count": 8,
   "id": "70a88984-b20a-4079-9079-9bfea47e426f",
   "metadata": {},
   "outputs": [
    {
     "name": "stdout",
     "output_type": "stream",
     "text": [
      "Number of Validation images: 200\n",
      "Number of labels: 200\n"
     ]
    }
   ],
   "source": [
    "print(\"Number of Validation images:\", len(valid_image_paths))\n",
    "print(\"Number of labels:\", len(valid_labels))"
   ]
  },
  {
   "cell_type": "code",
   "execution_count": 9,
   "id": "86500cc4-9054-45c7-b8d5-385b3aad1f15",
   "metadata": {},
   "outputs": [
    {
     "data": {
      "text/html": [
       "<div>\n",
       "<style scoped>\n",
       "    .dataframe tbody tr th:only-of-type {\n",
       "        vertical-align: middle;\n",
       "    }\n",
       "\n",
       "    .dataframe tbody tr th {\n",
       "        vertical-align: top;\n",
       "    }\n",
       "\n",
       "    .dataframe thead th {\n",
       "        text-align: right;\n",
       "    }\n",
       "</style>\n",
       "<table border=\"1\" class=\"dataframe\">\n",
       "  <thead>\n",
       "    <tr style=\"text-align: right;\">\n",
       "      <th></th>\n",
       "      <th>ImageName</th>\n",
       "      <th>Labels</th>\n",
       "    </tr>\n",
       "  </thead>\n",
       "  <tbody>\n",
       "    <tr>\n",
       "      <th>0</th>\n",
       "      <td>SynthImageDataset/3000/7/182_slinking_71711.jpg</td>\n",
       "      <td>SLINKING</td>\n",
       "    </tr>\n",
       "    <tr>\n",
       "      <th>1</th>\n",
       "      <td>SynthImageDataset/3000/7/181_REMODELERS_64541.jpg</td>\n",
       "      <td>REMODELERS</td>\n",
       "    </tr>\n",
       "    <tr>\n",
       "      <th>2</th>\n",
       "      <td>SynthImageDataset/3000/7/180_Chronographs_1353...</td>\n",
       "      <td>CHRONOGRAPHS</td>\n",
       "    </tr>\n",
       "    <tr>\n",
       "      <th>3</th>\n",
       "      <td>SynthImageDataset/3000/7/179_Impeaching_38222.jpg</td>\n",
       "      <td>IMPEACHING</td>\n",
       "    </tr>\n",
       "    <tr>\n",
       "      <th>4</th>\n",
       "      <td>SynthImageDataset/3000/7/177_Loots_45256.jpg</td>\n",
       "      <td>LOOTS</td>\n",
       "    </tr>\n",
       "  </tbody>\n",
       "</table>\n",
       "</div>"
      ],
      "text/plain": [
       "                                           ImageName        Labels\n",
       "0    SynthImageDataset/3000/7/182_slinking_71711.jpg      SLINKING\n",
       "1  SynthImageDataset/3000/7/181_REMODELERS_64541.jpg    REMODELERS\n",
       "2  SynthImageDataset/3000/7/180_Chronographs_1353...  CHRONOGRAPHS\n",
       "3  SynthImageDataset/3000/7/179_Impeaching_38222.jpg    IMPEACHING\n",
       "4       SynthImageDataset/3000/7/177_Loots_45256.jpg         LOOTS"
      ]
     },
     "execution_count": 9,
     "metadata": {},
     "output_type": "execute_result"
    }
   ],
   "source": [
    "test_images_path = pd.read_csv(r\"Test_Final.csv\",nrows = 500)\n",
    "test_images_path.drop(['Unnamed: 0'],axis = 1 , inplace = True)\n",
    "test_images_path.head()"
   ]
  },
  {
   "cell_type": "code",
   "execution_count": 10,
   "id": "bbc17b88-664c-4c3f-8ddf-ab178852643d",
   "metadata": {},
   "outputs": [],
   "source": [
    "# Loading Test Images\n",
    "test_image_paths = test_images_path['ImageName']\n",
    "test_labels = test_images_path['Labels'].values"
   ]
  },
  {
   "cell_type": "code",
   "execution_count": 11,
   "id": "c22189a4-cf54-4cf6-84fc-faf8b778a280",
   "metadata": {},
   "outputs": [
    {
     "name": "stdout",
     "output_type": "stream",
     "text": [
      "Number of testing images: 500\n",
      "Number of labels: 500\n"
     ]
    }
   ],
   "source": [
    "print(\"Number of testing images:\", len(test_image_paths))\n",
    "print(\"Number of labels:\", len(test_labels))"
   ]
  },
  {
   "cell_type": "markdown",
   "id": "a5bd2d86-fa68-4ba8-bb8e-5d4a7e98f8df",
   "metadata": {},
   "source": [
    "Displaying images with labels"
   ]
  },
  {
   "cell_type": "code",
   "execution_count": 12,
   "id": "85cf7766-7b83-4ccd-a66d-1d451dfe3201",
   "metadata": {},
   "outputs": [],
   "source": [
    "def plot_sample(X,y,index):\n",
    "    plt.figure(figsize = (5,5))\n",
    "    img_path = X[index]\n",
    "    img = cv2.imread(img_path)\n",
    "    plt.imshow(img)\n",
    "    print(y[index])\n",
    "    plt.show"
   ]
  },
  {
   "cell_type": "code",
   "execution_count": 13,
   "id": "0884f3f9-f24f-4432-8a83-e6b430dbe8ea",
   "metadata": {},
   "outputs": [
    {
     "name": "stdout",
     "output_type": "stream",
     "text": [
      "SPENCERIAN\n"
     ]
    },
    {
     "data": {
      "image/png": "[encoded data removed]",
      "text/plain": [
       "<Figure size 500x500 with 1 Axes>"
      ]
     },
     "metadata": {},
     "output_type": "display_data"
    }
   ],
   "source": [
    "plot_sample(tra_image_paths,train_labels,1)"
   ]
  },
  {
   "cell_type": "code",
   "execution_count": 14,
   "id": "f3ee05c7-7f5e-46a4-ba2b-226206e56a9c",
   "metadata": {},
   "outputs": [
    {
     "name": "stdout",
     "output_type": "stream",
     "text": [
      "FIRESTORM\n"
     ]
    },
    {
     "data": {
      "image/png": "[encoded data removed]",
      "text/plain": [
       "<Figure size 500x500 with 1 Axes>"
      ]
     },
     "metadata": {},
     "output_type": "display_data"
    }
   ],
   "source": [
    "plot_sample(valid_image_paths,valid_labels,1)"
   ]
  },
  {
   "cell_type": "code",
   "execution_count": 15,
   "id": "e27853e2-3981-4b48-8d37-21d75327ebdb",
   "metadata": {},
   "outputs": [
    {
     "name": "stdout",
     "output_type": "stream",
     "text": [
      "REMODELERS\n"
     ]
    },
    {
     "data": {
      "image/png": "[encoded data removed]",
      "text/plain": [
       "<Figure size 500x500 with 1 Axes>"
      ]
     },
     "metadata": {},
     "output_type": "display_data"
    }
   ],
   "source": [
    "plot_sample(test_image_paths,test_labels,1)"
   ]
  },
  {
   "cell_type": "markdown",
   "id": "1452bf48-6248-4a81-9b95-5271c0219089",
   "metadata": {},
   "source": [
    "Preprocessing Images"
   ]
  },
  {
   "cell_type": "code",
   "execution_count": 16,
   "id": "7f08b643-0e49-4efe-a461-bf9343b67ba6",
   "metadata": {},
   "outputs": [],
   "source": [
    "def preprocess_image(image_path, target_height=32, target_width=170):\n",
    "    image = Image.open(image_path)\n",
    "    image = image.convert(\"L\")\n",
    "    image = image.resize((target_width, target_height),resample=Image.BICUBIC)\n",
    "    image_array = np.array(image) / 255.0    \n",
    "    return image_array"
   ]
  },
  {
   "cell_type": "code",
   "execution_count": 17,
   "id": "72dfa921-e2aa-4de2-978d-6c01ab051e17",
   "metadata": {},
   "outputs": [
    {
     "name": "stdout",
     "output_type": "stream",
     "text": [
      "Shape of preprocessed train images array: (2000, 32, 170)\n"
     ]
    }
   ],
   "source": [
    "#Preprocessing Training images\n",
    "preprocessed_training_images = []\n",
    "for image_path in tra_image_paths:\n",
    "    preprocessed_image = preprocess_image(image_path)\n",
    "    preprocessed_training_images.append(preprocessed_image)\n",
    "preprocessed_images_array1 = np.array(preprocessed_training_images)\n",
    "\n",
    "print(\"Shape of preprocessed train images array:\", preprocessed_images_array1.shape)\n"
   ]
  },
  {
   "cell_type": "code",
   "execution_count": 18,
   "id": "7054bf19-59f2-49e2-8363-cca822b49b44",
   "metadata": {},
   "outputs": [
    {
     "name": "stdout",
     "output_type": "stream",
     "text": [
      "Shape of preprocessed Validation images array: (200, 32, 170)\n"
     ]
    }
   ],
   "source": [
    "#Preprocessing Validation images\n",
    "preprocessed_validation_images = []\n",
    "for image_path in valid_image_paths:\n",
    "    preprocessed_image = preprocess_image(image_path)\n",
    "    preprocessed_validation_images.append(preprocessed_image)\n",
    "preprocessed_images_array2 = np.array(preprocessed_validation_images)\n",
    "\n",
    "print(\"Shape of preprocessed Validation images array:\", preprocessed_images_array2.shape)"
   ]
  },
  {
   "cell_type": "code",
   "execution_count": 19,
   "id": "81763da8-1225-40e7-ae22-b1591b0a0c88",
   "metadata": {},
   "outputs": [
    {
     "name": "stdout",
     "output_type": "stream",
     "text": [
      "Shape of preprocessed Test images array: (500, 32, 170)\n"
     ]
    }
   ],
   "source": [
    "#Preprocessing test images\n",
    "preprocessed_test_images = []\n",
    "for image_path in test_image_paths:\n",
    "    preprocessed_image = preprocess_image(image_path)\n",
    "    preprocessed_test_images.append(preprocessed_image)\n",
    "preprocessed_images_array3 = np.array(preprocessed_test_images)\n",
    "\n",
    "print(\"Shape of preprocessed Test images array:\", preprocessed_images_array3.shape)"
   ]
  },
  {
   "cell_type": "code",
   "execution_count": 20,
   "id": "30d50b0c-3fa4-4e66-9391-efeddc31f5bb",
   "metadata": {},
   "outputs": [
    {
     "data": {
      "text/plain": [
       "['w', 'o', 'r', 'd']"
      ]
     },
     "execution_count": 20,
     "metadata": {},
     "output_type": "execute_result"
    }
   ],
   "source": [
    "w = \"word\"\n",
    "list(w)"
   ]
  },
  {
   "cell_type": "markdown",
   "id": "010b3617-4545-494d-85f4-da893f3701a0",
   "metadata": {},
   "source": [
    "Preprocessing Labels"
   ]
  },
  {
   "cell_type": "code",
   "execution_count": 21,
   "id": "8781d2e6-2caf-4aef-873e-2e414f4e97da",
   "metadata": {},
   "outputs": [],
   "source": [
    "def preprocess_text(text_list, max_length):\n",
    "    normalized_word_list = text_list\n",
    "    tokenized_word_list = [list(word) for word in normalized_word_list]\n",
    "    #print(\"tokenized_word_list : \", tokenized_word_list[:5])\n",
    "    encoded_word_list = [[char_to_index[char] for char in word] for word in tokenized_word_list]\n",
    "    #encoded_word_list = [[char_to_index.get(char, len(vocabulary) - 1) for char in word] for word in tokenized_word_list]\n",
    "\n",
    "    padded_word_list = pad_sequences(encoded_word_list, maxlen=max_length, padding='post')\n",
    "\n",
    "    num_classes = len(vocabulary)\n",
    "    one_hot_encoded_list = [np.eye(num_classes)[word] for word in padded_word_list]\n",
    "\n",
    "    one_hot_encoded_array = np.array(one_hot_encoded_list)\n",
    "    one_hot_encoded_array = one_hot_encoded_array.reshape(-1, max_length, num_classes)\n",
    "\n",
    "    return padded_word_list, one_hot_encoded_array\n"
   ]
  },
  {
   "cell_type": "code",
   "execution_count": 22,
   "id": "03fa63c2-6449-44ed-9c2e-502f093d33c6",
   "metadata": {},
   "outputs": [
    {
     "name": "stdout",
     "output_type": "stream",
     "text": [
      "Padded word list shape of training labels: (2000, 14)\n",
      "One-hot encoded array shape of training labels: (2000, 14, 95)\n"
     ]
    }
   ],
   "source": [
    "text_list1 = train_labels\n",
    "padded_word_list1, one_hot_encoded_array1 = preprocess_text(text_list1, max_length)\n",
    "\n",
    "print(\"Padded word list shape of training labels:\", padded_word_list1.shape)\n",
    "print(\"One-hot encoded array shape of training labels:\", one_hot_encoded_array1.shape)"
   ]
  },
  {
   "cell_type": "code",
   "execution_count": 23,
   "id": "6e77b5d5-ff86-4894-82d8-faf1c2e11ced",
   "metadata": {},
   "outputs": [
    {
     "name": "stdout",
     "output_type": "stream",
     "text": [
      "Padded word list shape of validation labels: (200, 14)\n",
      "One-hot encoded array shape of validation labels: (200, 14, 95)\n"
     ]
    }
   ],
   "source": [
    "text_list2 = valid_labels\n",
    "padded_word_list2, one_hot_encoded_array2 = preprocess_text(text_list2, max_length)\n",
    "\n",
    "print(\"Padded word list shape of validation labels:\", padded_word_list2.shape)\n",
    "print(\"One-hot encoded array shape of validation labels:\", one_hot_encoded_array2.shape)"
   ]
  },
  {
   "cell_type": "code",
   "execution_count": 24,
   "id": "40c53750-7457-408c-ac87-4b74b4b493bd",
   "metadata": {},
   "outputs": [
    {
     "name": "stdout",
     "output_type": "stream",
     "text": [
      "Padded word list shape of test labels: (500, 14)\n",
      "One-hot encoded array shape of test labels: (500, 14, 95)\n"
     ]
    }
   ],
   "source": [
    "text_list3 = test_labels\n",
    "padded_word_list3, one_hot_encoded_array3 = preprocess_text(text_list3, max_length)\n",
    "\n",
    "print(\"Padded word list shape of test labels:\", padded_word_list3.shape)\n",
    "print(\"One-hot encoded array shape of test labels:\", one_hot_encoded_array3.shape)"
   ]
  },
  {
   "cell_type": "markdown",
   "id": "2fe2e255-3f5d-4515-a324-4c7738b2dcee",
   "metadata": {},
   "source": [
    "Modeling"
   ]
  },
  {
   "cell_type": "code",
   "execution_count": 25,
   "id": "bbf25ec1-425c-41f3-9802-571a184e819d",
   "metadata": {},
   "outputs": [],
   "source": [
    "import tensorflow as tf\n",
    "from tensorflow.keras.layers import Input, Conv2D, BatchNormalization, Activation, MaxPooling2D, Dropout, Flatten, Dense, Reshape, Bidirectional, LSTM, Lambda\n",
    "from tensorflow.keras import models,layers\n",
    "from keras import backend as K"
   ]
  },
  {
   "cell_type": "code",
   "execution_count": 26,
   "id": "ea5fdd9b-a404-409b-9d6c-684ddab25128",
   "metadata": {},
   "outputs": [
    {
     "name": "stderr",
     "output_type": "stream",
     "text": [
      "E:\\python\\python 3123\\Lib\\site-packages\\keras\\src\\layers\\convolutional\\base_conv.py:99: UserWarning: Do not pass an `input_shape`/`input_dim` argument to a layer. When using Sequential models, prefer using an `Input(shape)` object as the first layer in the model instead.\n",
      "  super().__init__(\n"
     ]
    },
    {
     "name": "stdout",
     "output_type": "stream",
     "text": [
      "WARNING:tensorflow:From E:\\python\\python 3123\\Lib\\site-packages\\keras\\src\\backend\\tensorflow\\core.py:187: The name tf.placeholder is deprecated. Please use tf.compat.v1.placeholder instead.\n",
      "\n"
     ]
    },
    {
     "data": {
      "text/html": [
       "<pre style=\"white-space:pre;overflow-x:auto;line-height:normal;font-family:Menlo,'DejaVu Sans Mono',consolas,'Courier New',monospace\"><span style=\"font-weight: bold\">Model: \"sequential\"</span>\n",
       "</pre>\n"
      ],
      "text/plain": [
       "\u001b[1mModel: \"sequential\"\u001b[0m\n"
      ]
     },
     "metadata": {},
     "output_type": "display_data"
    },
    {
     "data": {
      "text/html": [
       "<pre style=\"white-space:pre;overflow-x:auto;line-height:normal;font-family:Menlo,'DejaVu Sans Mono',consolas,'Courier New',monospace\">┏━━━━━━━━━━━━━━━━━━━━━━━━━━━━━━━━━━━━━━┳━━━━━━━━━━━━━━━━━━━━━━━━━━━━━┳━━━━━━━━━━━━━━━━━┓\n",
       "┃<span style=\"font-weight: bold\"> Layer (type)                         </span>┃<span style=\"font-weight: bold\"> Output Shape                </span>┃<span style=\"font-weight: bold\">         Param # </span>┃\n",
       "┡━━━━━━━━━━━━━━━━━━━━━━━━━━━━━━━━━━━━━━╇━━━━━━━━━━━━━━━━━━━━━━━━━━━━━╇━━━━━━━━━━━━━━━━━┩\n",
       "│ conv2d (<span style=\"color: #0087ff; text-decoration-color: #0087ff\">Conv2D</span>)                      │ (<span style=\"color: #00d7ff; text-decoration-color: #00d7ff\">None</span>, <span style=\"color: #00af00; text-decoration-color: #00af00\">32</span>, <span style=\"color: #00af00; text-decoration-color: #00af00\">170</span>, <span style=\"color: #00af00; text-decoration-color: #00af00\">64</span>)         │             <span style=\"color: #00af00; text-decoration-color: #00af00\">640</span> │\n",
       "├──────────────────────────────────────┼─────────────────────────────┼─────────────────┤\n",
       "│ max_pooling2d (<span style=\"color: #0087ff; text-decoration-color: #0087ff\">MaxPooling2D</span>)         │ (<span style=\"color: #00d7ff; text-decoration-color: #00d7ff\">None</span>, <span style=\"color: #00af00; text-decoration-color: #00af00\">16</span>, <span style=\"color: #00af00; text-decoration-color: #00af00\">85</span>, <span style=\"color: #00af00; text-decoration-color: #00af00\">64</span>)          │               <span style=\"color: #00af00; text-decoration-color: #00af00\">0</span> │\n",
       "├──────────────────────────────────────┼─────────────────────────────┼─────────────────┤\n",
       "│ batch_normalization                  │ (<span style=\"color: #00d7ff; text-decoration-color: #00d7ff\">None</span>, <span style=\"color: #00af00; text-decoration-color: #00af00\">16</span>, <span style=\"color: #00af00; text-decoration-color: #00af00\">85</span>, <span style=\"color: #00af00; text-decoration-color: #00af00\">64</span>)          │             <span style=\"color: #00af00; text-decoration-color: #00af00\">256</span> │\n",
       "│ (<span style=\"color: #0087ff; text-decoration-color: #0087ff\">BatchNormalization</span>)                 │                             │                 │\n",
       "├──────────────────────────────────────┼─────────────────────────────┼─────────────────┤\n",
       "│ separable_conv2d (<span style=\"color: #0087ff; text-decoration-color: #0087ff\">SeparableConv2D</span>)   │ (<span style=\"color: #00d7ff; text-decoration-color: #00d7ff\">None</span>, <span style=\"color: #00af00; text-decoration-color: #00af00\">16</span>, <span style=\"color: #00af00; text-decoration-color: #00af00\">85</span>, <span style=\"color: #00af00; text-decoration-color: #00af00\">128</span>)         │           <span style=\"color: #00af00; text-decoration-color: #00af00\">8,896</span> │\n",
       "├──────────────────────────────────────┼─────────────────────────────┼─────────────────┤\n",
       "│ max_pooling2d_1 (<span style=\"color: #0087ff; text-decoration-color: #0087ff\">MaxPooling2D</span>)       │ (<span style=\"color: #00d7ff; text-decoration-color: #00d7ff\">None</span>, <span style=\"color: #00af00; text-decoration-color: #00af00\">8</span>, <span style=\"color: #00af00; text-decoration-color: #00af00\">42</span>, <span style=\"color: #00af00; text-decoration-color: #00af00\">128</span>)          │               <span style=\"color: #00af00; text-decoration-color: #00af00\">0</span> │\n",
       "├──────────────────────────────────────┼─────────────────────────────┼─────────────────┤\n",
       "│ batch_normalization_1                │ (<span style=\"color: #00d7ff; text-decoration-color: #00d7ff\">None</span>, <span style=\"color: #00af00; text-decoration-color: #00af00\">8</span>, <span style=\"color: #00af00; text-decoration-color: #00af00\">42</span>, <span style=\"color: #00af00; text-decoration-color: #00af00\">128</span>)          │             <span style=\"color: #00af00; text-decoration-color: #00af00\">512</span> │\n",
       "│ (<span style=\"color: #0087ff; text-decoration-color: #0087ff\">BatchNormalization</span>)                 │                             │                 │\n",
       "├──────────────────────────────────────┼─────────────────────────────┼─────────────────┤\n",
       "│ separable_conv2d_1 (<span style=\"color: #0087ff; text-decoration-color: #0087ff\">SeparableConv2D</span>) │ (<span style=\"color: #00d7ff; text-decoration-color: #00d7ff\">None</span>, <span style=\"color: #00af00; text-decoration-color: #00af00\">8</span>, <span style=\"color: #00af00; text-decoration-color: #00af00\">42</span>, <span style=\"color: #00af00; text-decoration-color: #00af00\">256</span>)          │          <span style=\"color: #00af00; text-decoration-color: #00af00\">34,176</span> │\n",
       "├──────────────────────────────────────┼─────────────────────────────┼─────────────────┤\n",
       "│ max_pooling2d_2 (<span style=\"color: #0087ff; text-decoration-color: #0087ff\">MaxPooling2D</span>)       │ (<span style=\"color: #00d7ff; text-decoration-color: #00d7ff\">None</span>, <span style=\"color: #00af00; text-decoration-color: #00af00\">4</span>, <span style=\"color: #00af00; text-decoration-color: #00af00\">14</span>, <span style=\"color: #00af00; text-decoration-color: #00af00\">256</span>)          │               <span style=\"color: #00af00; text-decoration-color: #00af00\">0</span> │\n",
       "├──────────────────────────────────────┼─────────────────────────────┼─────────────────┤\n",
       "│ dropout (<span style=\"color: #0087ff; text-decoration-color: #0087ff\">Dropout</span>)                    │ (<span style=\"color: #00d7ff; text-decoration-color: #00d7ff\">None</span>, <span style=\"color: #00af00; text-decoration-color: #00af00\">4</span>, <span style=\"color: #00af00; text-decoration-color: #00af00\">14</span>, <span style=\"color: #00af00; text-decoration-color: #00af00\">256</span>)          │               <span style=\"color: #00af00; text-decoration-color: #00af00\">0</span> │\n",
       "├──────────────────────────────────────┼─────────────────────────────┼─────────────────┤\n",
       "│ batch_normalization_2                │ (<span style=\"color: #00d7ff; text-decoration-color: #00d7ff\">None</span>, <span style=\"color: #00af00; text-decoration-color: #00af00\">4</span>, <span style=\"color: #00af00; text-decoration-color: #00af00\">14</span>, <span style=\"color: #00af00; text-decoration-color: #00af00\">256</span>)          │           <span style=\"color: #00af00; text-decoration-color: #00af00\">1,024</span> │\n",
       "│ (<span style=\"color: #0087ff; text-decoration-color: #0087ff\">BatchNormalization</span>)                 │                             │                 │\n",
       "├──────────────────────────────────────┼─────────────────────────────┼─────────────────┤\n",
       "│ separable_conv2d_2 (<span style=\"color: #0087ff; text-decoration-color: #0087ff\">SeparableConv2D</span>) │ (<span style=\"color: #00d7ff; text-decoration-color: #00d7ff\">None</span>, <span style=\"color: #00af00; text-decoration-color: #00af00\">4</span>, <span style=\"color: #00af00; text-decoration-color: #00af00\">14</span>, <span style=\"color: #00af00; text-decoration-color: #00af00\">512</span>)          │         <span style=\"color: #00af00; text-decoration-color: #00af00\">133,888</span> │\n",
       "├──────────────────────────────────────┼─────────────────────────────┼─────────────────┤\n",
       "│ max_pooling2d_3 (<span style=\"color: #0087ff; text-decoration-color: #0087ff\">MaxPooling2D</span>)       │ (<span style=\"color: #00d7ff; text-decoration-color: #00d7ff\">None</span>, <span style=\"color: #00af00; text-decoration-color: #00af00\">1</span>, <span style=\"color: #00af00; text-decoration-color: #00af00\">14</span>, <span style=\"color: #00af00; text-decoration-color: #00af00\">512</span>)          │               <span style=\"color: #00af00; text-decoration-color: #00af00\">0</span> │\n",
       "├──────────────────────────────────────┼─────────────────────────────┼─────────────────┤\n",
       "│ dropout_1 (<span style=\"color: #0087ff; text-decoration-color: #0087ff\">Dropout</span>)                  │ (<span style=\"color: #00d7ff; text-decoration-color: #00d7ff\">None</span>, <span style=\"color: #00af00; text-decoration-color: #00af00\">1</span>, <span style=\"color: #00af00; text-decoration-color: #00af00\">14</span>, <span style=\"color: #00af00; text-decoration-color: #00af00\">512</span>)          │               <span style=\"color: #00af00; text-decoration-color: #00af00\">0</span> │\n",
       "├──────────────────────────────────────┼─────────────────────────────┼─────────────────┤\n",
       "│ batch_normalization_3                │ (<span style=\"color: #00d7ff; text-decoration-color: #00d7ff\">None</span>, <span style=\"color: #00af00; text-decoration-color: #00af00\">1</span>, <span style=\"color: #00af00; text-decoration-color: #00af00\">14</span>, <span style=\"color: #00af00; text-decoration-color: #00af00\">512</span>)          │           <span style=\"color: #00af00; text-decoration-color: #00af00\">2,048</span> │\n",
       "│ (<span style=\"color: #0087ff; text-decoration-color: #0087ff\">BatchNormalization</span>)                 │                             │                 │\n",
       "├──────────────────────────────────────┼─────────────────────────────┼─────────────────┤\n",
       "│ lambda (<span style=\"color: #0087ff; text-decoration-color: #0087ff\">Lambda</span>)                      │ (<span style=\"color: #00d7ff; text-decoration-color: #00d7ff\">None</span>, <span style=\"color: #00af00; text-decoration-color: #00af00\">14</span>, <span style=\"color: #00af00; text-decoration-color: #00af00\">512</span>)             │               <span style=\"color: #00af00; text-decoration-color: #00af00\">0</span> │\n",
       "├──────────────────────────────────────┼─────────────────────────────┼─────────────────┤\n",
       "│ bidirectional (<span style=\"color: #0087ff; text-decoration-color: #0087ff\">Bidirectional</span>)        │ (<span style=\"color: #00d7ff; text-decoration-color: #00d7ff\">None</span>, <span style=\"color: #00af00; text-decoration-color: #00af00\">14</span>, <span style=\"color: #00af00; text-decoration-color: #00af00\">256</span>)             │       <span style=\"color: #00af00; text-decoration-color: #00af00\">1,574,912</span> │\n",
       "├──────────────────────────────────────┼─────────────────────────────┼─────────────────┤\n",
       "│ bidirectional_1 (<span style=\"color: #0087ff; text-decoration-color: #0087ff\">Bidirectional</span>)      │ (<span style=\"color: #00d7ff; text-decoration-color: #00d7ff\">None</span>, <span style=\"color: #00af00; text-decoration-color: #00af00\">14</span>, <span style=\"color: #00af00; text-decoration-color: #00af00\">256</span>)             │       <span style=\"color: #00af00; text-decoration-color: #00af00\">1,050,624</span> │\n",
       "├──────────────────────────────────────┼─────────────────────────────┼─────────────────┤\n",
       "│ time_distributed (<span style=\"color: #0087ff; text-decoration-color: #0087ff\">TimeDistributed</span>)   │ (<span style=\"color: #00d7ff; text-decoration-color: #00d7ff\">None</span>, <span style=\"color: #00af00; text-decoration-color: #00af00\">14</span>, <span style=\"color: #00af00; text-decoration-color: #00af00\">95</span>)              │          <span style=\"color: #00af00; text-decoration-color: #00af00\">24,415</span> │\n",
       "└──────────────────────────────────────┴─────────────────────────────┴─────────────────┘\n",
       "</pre>\n"
      ],
      "text/plain": [
       "┏━━━━━━━━━━━━━━━━━━━━━━━━━━━━━━━━━━━━━━┳━━━━━━━━━━━━━━━━━━━━━━━━━━━━━┳━━━━━━━━━━━━━━━━━┓\n",
       "┃\u001b[1m \u001b[0m\u001b[1mLayer (type)                        \u001b[0m\u001b[1m \u001b[0m┃\u001b[1m \u001b[0m\u001b[1mOutput Shape               \u001b[0m\u001b[1m \u001b[0m┃\u001b[1m \u001b[0m\u001b[1m        Param #\u001b[0m\u001b[1m \u001b[0m┃\n",
       "┡━━━━━━━━━━━━━━━━━━━━━━━━━━━━━━━━━━━━━━╇━━━━━━━━━━━━━━━━━━━━━━━━━━━━━╇━━━━━━━━━━━━━━━━━┩\n",
       "│ conv2d (\u001b[38;5;33mConv2D\u001b[0m)                      │ (\u001b[38;5;45mNone\u001b[0m, \u001b[38;5;34m32\u001b[0m, \u001b[38;5;34m170\u001b[0m, \u001b[38;5;34m64\u001b[0m)         │             \u001b[38;5;34m640\u001b[0m │\n",
       "├──────────────────────────────────────┼─────────────────────────────┼─────────────────┤\n",
       "│ max_pooling2d (\u001b[38;5;33mMaxPooling2D\u001b[0m)         │ (\u001b[38;5;45mNone\u001b[0m, \u001b[38;5;34m16\u001b[0m, \u001b[38;5;34m85\u001b[0m, \u001b[38;5;34m64\u001b[0m)          │               \u001b[38;5;34m0\u001b[0m │\n",
       "├──────────────────────────────────────┼─────────────────────────────┼─────────────────┤\n",
       "│ batch_normalization                  │ (\u001b[38;5;45mNone\u001b[0m, \u001b[38;5;34m16\u001b[0m, \u001b[38;5;34m85\u001b[0m, \u001b[38;5;34m64\u001b[0m)          │             \u001b[38;5;34m256\u001b[0m │\n",
       "│ (\u001b[38;5;33mBatchNormalization\u001b[0m)                 │                             │                 │\n",
       "├──────────────────────────────────────┼─────────────────────────────┼─────────────────┤\n",
       "│ separable_conv2d (\u001b[38;5;33mSeparableConv2D\u001b[0m)   │ (\u001b[38;5;45mNone\u001b[0m, \u001b[38;5;34m16\u001b[0m, \u001b[38;5;34m85\u001b[0m, \u001b[38;5;34m128\u001b[0m)         │           \u001b[38;5;34m8,896\u001b[0m │\n",
       "├──────────────────────────────────────┼─────────────────────────────┼─────────────────┤\n",
       "│ max_pooling2d_1 (\u001b[38;5;33mMaxPooling2D\u001b[0m)       │ (\u001b[38;5;45mNone\u001b[0m, \u001b[38;5;34m8\u001b[0m, \u001b[38;5;34m42\u001b[0m, \u001b[38;5;34m128\u001b[0m)          │               \u001b[38;5;34m0\u001b[0m │\n",
       "├──────────────────────────────────────┼─────────────────────────────┼─────────────────┤\n",
       "│ batch_normalization_1                │ (\u001b[38;5;45mNone\u001b[0m, \u001b[38;5;34m8\u001b[0m, \u001b[38;5;34m42\u001b[0m, \u001b[38;5;34m128\u001b[0m)          │             \u001b[38;5;34m512\u001b[0m │\n",
       "│ (\u001b[38;5;33mBatchNormalization\u001b[0m)                 │                             │                 │\n",
       "├──────────────────────────────────────┼─────────────────────────────┼─────────────────┤\n",
       "│ separable_conv2d_1 (\u001b[38;5;33mSeparableConv2D\u001b[0m) │ (\u001b[38;5;45mNone\u001b[0m, \u001b[38;5;34m8\u001b[0m, \u001b[38;5;34m42\u001b[0m, \u001b[38;5;34m256\u001b[0m)          │          \u001b[38;5;34m34,176\u001b[0m │\n",
       "├──────────────────────────────────────┼─────────────────────────────┼─────────────────┤\n",
       "│ max_pooling2d_2 (\u001b[38;5;33mMaxPooling2D\u001b[0m)       │ (\u001b[38;5;45mNone\u001b[0m, \u001b[38;5;34m4\u001b[0m, \u001b[38;5;34m14\u001b[0m, \u001b[38;5;34m256\u001b[0m)          │               \u001b[38;5;34m0\u001b[0m │\n",
       "├──────────────────────────────────────┼─────────────────────────────┼─────────────────┤\n",
       "│ dropout (\u001b[38;5;33mDropout\u001b[0m)                    │ (\u001b[38;5;45mNone\u001b[0m, \u001b[38;5;34m4\u001b[0m, \u001b[38;5;34m14\u001b[0m, \u001b[38;5;34m256\u001b[0m)          │               \u001b[38;5;34m0\u001b[0m │\n",
       "├──────────────────────────────────────┼─────────────────────────────┼─────────────────┤\n",
       "│ batch_normalization_2                │ (\u001b[38;5;45mNone\u001b[0m, \u001b[38;5;34m4\u001b[0m, \u001b[38;5;34m14\u001b[0m, \u001b[38;5;34m256\u001b[0m)          │           \u001b[38;5;34m1,024\u001b[0m │\n",
       "│ (\u001b[38;5;33mBatchNormalization\u001b[0m)                 │                             │                 │\n",
       "├──────────────────────────────────────┼─────────────────────────────┼─────────────────┤\n",
       "│ separable_conv2d_2 (\u001b[38;5;33mSeparableConv2D\u001b[0m) │ (\u001b[38;5;45mNone\u001b[0m, \u001b[38;5;34m4\u001b[0m, \u001b[38;5;34m14\u001b[0m, \u001b[38;5;34m512\u001b[0m)          │         \u001b[38;5;34m133,888\u001b[0m │\n",
       "├──────────────────────────────────────┼─────────────────────────────┼─────────────────┤\n",
       "│ max_pooling2d_3 (\u001b[38;5;33mMaxPooling2D\u001b[0m)       │ (\u001b[38;5;45mNone\u001b[0m, \u001b[38;5;34m1\u001b[0m, \u001b[38;5;34m14\u001b[0m, \u001b[38;5;34m512\u001b[0m)          │               \u001b[38;5;34m0\u001b[0m │\n",
       "├──────────────────────────────────────┼─────────────────────────────┼─────────────────┤\n",
       "│ dropout_1 (\u001b[38;5;33mDropout\u001b[0m)                  │ (\u001b[38;5;45mNone\u001b[0m, \u001b[38;5;34m1\u001b[0m, \u001b[38;5;34m14\u001b[0m, \u001b[38;5;34m512\u001b[0m)          │               \u001b[38;5;34m0\u001b[0m │\n",
       "├──────────────────────────────────────┼─────────────────────────────┼─────────────────┤\n",
       "│ batch_normalization_3                │ (\u001b[38;5;45mNone\u001b[0m, \u001b[38;5;34m1\u001b[0m, \u001b[38;5;34m14\u001b[0m, \u001b[38;5;34m512\u001b[0m)          │           \u001b[38;5;34m2,048\u001b[0m │\n",
       "│ (\u001b[38;5;33mBatchNormalization\u001b[0m)                 │                             │                 │\n",
       "├──────────────────────────────────────┼─────────────────────────────┼─────────────────┤\n",
       "│ lambda (\u001b[38;5;33mLambda\u001b[0m)                      │ (\u001b[38;5;45mNone\u001b[0m, \u001b[38;5;34m14\u001b[0m, \u001b[38;5;34m512\u001b[0m)             │               \u001b[38;5;34m0\u001b[0m │\n",
       "├──────────────────────────────────────┼─────────────────────────────┼─────────────────┤\n",
       "│ bidirectional (\u001b[38;5;33mBidirectional\u001b[0m)        │ (\u001b[38;5;45mNone\u001b[0m, \u001b[38;5;34m14\u001b[0m, \u001b[38;5;34m256\u001b[0m)             │       \u001b[38;5;34m1,574,912\u001b[0m │\n",
       "├──────────────────────────────────────┼─────────────────────────────┼─────────────────┤\n",
       "│ bidirectional_1 (\u001b[38;5;33mBidirectional\u001b[0m)      │ (\u001b[38;5;45mNone\u001b[0m, \u001b[38;5;34m14\u001b[0m, \u001b[38;5;34m256\u001b[0m)             │       \u001b[38;5;34m1,050,624\u001b[0m │\n",
       "├──────────────────────────────────────┼─────────────────────────────┼─────────────────┤\n",
       "│ time_distributed (\u001b[38;5;33mTimeDistributed\u001b[0m)   │ (\u001b[38;5;45mNone\u001b[0m, \u001b[38;5;34m14\u001b[0m, \u001b[38;5;34m95\u001b[0m)              │          \u001b[38;5;34m24,415\u001b[0m │\n",
       "└──────────────────────────────────────┴─────────────────────────────┴─────────────────┘\n"
      ]
     },
     "metadata": {},
     "output_type": "display_data"
    },
    {
     "data": {
      "text/html": [
       "<pre style=\"white-space:pre;overflow-x:auto;line-height:normal;font-family:Menlo,'DejaVu Sans Mono',consolas,'Courier New',monospace\"><span style=\"font-weight: bold\"> Total params: </span><span style=\"color: #00af00; text-decoration-color: #00af00\">2,831,391</span> (10.80 MB)\n",
       "</pre>\n"
      ],
      "text/plain": [
       "\u001b[1m Total params: \u001b[0m\u001b[38;5;34m2,831,391\u001b[0m (10.80 MB)\n"
      ]
     },
     "metadata": {},
     "output_type": "display_data"
    },
    {
     "data": {
      "text/html": [
       "<pre style=\"white-space:pre;overflow-x:auto;line-height:normal;font-family:Menlo,'DejaVu Sans Mono',consolas,'Courier New',monospace\"><span style=\"font-weight: bold\"> Trainable params: </span><span style=\"color: #00af00; text-decoration-color: #00af00\">2,829,471</span> (10.79 MB)\n",
       "</pre>\n"
      ],
      "text/plain": [
       "\u001b[1m Trainable params: \u001b[0m\u001b[38;5;34m2,829,471\u001b[0m (10.79 MB)\n"
      ]
     },
     "metadata": {},
     "output_type": "display_data"
    },
    {
     "data": {
      "text/html": [
       "<pre style=\"white-space:pre;overflow-x:auto;line-height:normal;font-family:Menlo,'DejaVu Sans Mono',consolas,'Courier New',monospace\"><span style=\"font-weight: bold\"> Non-trainable params: </span><span style=\"color: #00af00; text-decoration-color: #00af00\">1,920</span> (7.50 KB)\n",
       "</pre>\n"
      ],
      "text/plain": [
       "\u001b[1m Non-trainable params: \u001b[0m\u001b[38;5;34m1,920\u001b[0m (7.50 KB)\n"
      ]
     },
     "metadata": {},
     "output_type": "display_data"
    }
   ],
   "source": [
    "from keras import models\n",
    "from keras.layers import Conv2D, BatchNormalization, MaxPooling2D, Dropout, Activation, LSTM, Bidirectional, TimeDistributed, Dense, Lambda\n",
    "import tensorflow as tf\n",
    "\n",
    "# Define the model\n",
    "model = models.Sequential()\n",
    "\n",
    "# Convolution layers\n",
    "model.add(Conv2D(64, (3, 3), activation=\"relu\", padding='same', input_shape=(32, 170, 1), kernel_initializer='he_normal'))\n",
    "model.add(MaxPooling2D(pool_size=(2, 2)))\n",
    "model.add(BatchNormalization())\n",
    "\n",
    "model.add(layers.SeparableConv2D(128, (3, 3), activation=\"relu\", padding='same'))\n",
    "model.add(MaxPooling2D(pool_size=(2, 2)))\n",
    "model.add(BatchNormalization())\n",
    "\n",
    "\n",
    "model.add(layers.SeparableConv2D(256, (3, 3), activation=\"relu\", padding='same'))\n",
    "model.add(MaxPooling2D(pool_size=(2, 3)))\n",
    "model.add(Dropout(0.3))\n",
    "model.add(BatchNormalization())\n",
    "\n",
    "\n",
    "model.add(layers.SeparableConv2D(512, (3, 3),activation = \"relu\", padding='same'))\n",
    "model.add(MaxPooling2D(pool_size=(4, 1)))\n",
    "model.add(Dropout(0.25))\n",
    "model.add(BatchNormalization())\n",
    "\n",
    "\n",
    "\n",
    "# Lambda layer to squeeze one dimension\n",
    "model.add(Lambda(lambda x: tf.squeeze(x, axis=1)))\n",
    "\n",
    "# RNN layers\n",
    "model.add(Bidirectional(LSTM(256, return_sequences=True, kernel_initializer='he_normal'), merge_mode='sum'))\n",
    "model.add(Bidirectional(LSTM(256, return_sequences=True, kernel_initializer='he_normal'), merge_mode='sum'))\n",
    "\n",
    "# Time distributed dense layer\n",
    "model.add(TimeDistributed(Dense(95, activation='softmax')))\n",
    "\n",
    "# Print the summary\n",
    "model.summary()\n"
   ]
  },
  {
   "cell_type": "code",
   "execution_count": 27,
   "id": "d14bd867-3cda-4e6f-8159-d9060892bfff",
   "metadata": {},
   "outputs": [
    {
     "data": {
      "text/plain": [
       "[<KerasTensor shape=(None, 14, 95), dtype=float32, sparse=False, name=keras_tensor_179>]"
      ]
     },
     "execution_count": 27,
     "metadata": {},
     "output_type": "execute_result"
    }
   ],
   "source": [
    "model.outputs"
   ]
  },
  {
   "cell_type": "code",
   "execution_count": 28,
   "id": "621ca606-a2a2-4bc2-b3d1-90e49541dc78",
   "metadata": {},
   "outputs": [],
   "source": [
    "model.compile(optimizer='adam', loss='categorical_crossentropy', metrics=['accuracy'])"
   ]
  },
  {
   "cell_type": "code",
   "execution_count": 29,
   "id": "88d3d846-021f-4cc9-9975-e8a4309d3be6",
   "metadata": {},
   "outputs": [
    {
     "name": "stdout",
     "output_type": "stream",
     "text": [
      "Epoch 1/15\n",
      "\u001b[1m63/63\u001b[0m \u001b[32m━━━━━━━━━━━━━━━━━━━━\u001b[0m\u001b[37m\u001b[0m \u001b[1m39s\u001b[0m 302ms/step - accuracy: 0.3984 - loss: 2.5947 - val_accuracy: 0.4546 - val_loss: 1.9886\n",
      "Epoch 2/15\n",
      "\u001b[1m63/63\u001b[0m \u001b[32m━━━━━━━━━━━━━━━━━━━━\u001b[0m\u001b[37m\u001b[0m \u001b[1m17s\u001b[0m 262ms/step - accuracy: 0.4648 - loss: 1.9008 - val_accuracy: 0.4546 - val_loss: 1.9620\n",
      "Epoch 3/15\n",
      "\u001b[1m63/63\u001b[0m \u001b[32m━━━━━━━━━━━━━━━━━━━━\u001b[0m\u001b[37m\u001b[0m \u001b[1m17s\u001b[0m 263ms/step - accuracy: 0.4700 - loss: 1.8565 - val_accuracy: 0.4514 - val_loss: 1.9720\n",
      "Epoch 4/15\n",
      "\u001b[1m63/63\u001b[0m \u001b[32m━━━━━━━━━━━━━━━━━━━━\u001b[0m\u001b[37m\u001b[0m \u001b[1m17s\u001b[0m 272ms/step - accuracy: 0.4745 - loss: 1.8208 - val_accuracy: 0.4468 - val_loss: 1.9555\n",
      "Epoch 5/15\n",
      "\u001b[1m63/63\u001b[0m \u001b[32m━━━━━━━━━━━━━━━━━━━━\u001b[0m\u001b[37m\u001b[0m \u001b[1m17s\u001b[0m 262ms/step - accuracy: 0.4758 - loss: 1.8150 - val_accuracy: 0.4354 - val_loss: 1.9601\n",
      "Epoch 6/15\n",
      "\u001b[1m63/63\u001b[0m \u001b[32m━━━━━━━━━━━━━━━━━━━━\u001b[0m\u001b[37m\u001b[0m \u001b[1m17s\u001b[0m 262ms/step - accuracy: 0.4822 - loss: 1.7838 - val_accuracy: 0.4279 - val_loss: 1.9898\n",
      "Epoch 7/15\n",
      "\u001b[1m63/63\u001b[0m \u001b[32m━━━━━━━━━━━━━━━━━━━━\u001b[0m\u001b[37m\u001b[0m \u001b[1m17s\u001b[0m 262ms/step - accuracy: 0.4834 - loss: 1.7535 - val_accuracy: 0.4664 - val_loss: 1.8882\n",
      "Epoch 8/15\n",
      "\u001b[1m63/63\u001b[0m \u001b[32m━━━━━━━━━━━━━━━━━━━━\u001b[0m\u001b[37m\u001b[0m \u001b[1m17s\u001b[0m 267ms/step - accuracy: 0.4912 - loss: 1.7402 - val_accuracy: 0.4621 - val_loss: 1.8897\n",
      "Epoch 9/15\n",
      "\u001b[1m63/63\u001b[0m \u001b[32m━━━━━━━━━━━━━━━━━━━━\u001b[0m\u001b[37m\u001b[0m \u001b[1m17s\u001b[0m 269ms/step - accuracy: 0.4961 - loss: 1.7141 - val_accuracy: 0.4611 - val_loss: 1.8646\n",
      "Epoch 10/15\n",
      "\u001b[1m63/63\u001b[0m \u001b[32m━━━━━━━━━━━━━━━━━━━━\u001b[0m\u001b[37m\u001b[0m \u001b[1m17s\u001b[0m 270ms/step - accuracy: 0.4965 - loss: 1.7095 - val_accuracy: 0.4768 - val_loss: 1.7985\n",
      "Epoch 11/15\n",
      "\u001b[1m63/63\u001b[0m \u001b[32m━━━━━━━━━━━━━━━━━━━━\u001b[0m\u001b[37m\u001b[0m \u001b[1m17s\u001b[0m 273ms/step - accuracy: 0.5033 - loss: 1.6838 - val_accuracy: 0.4836 - val_loss: 1.7670\n",
      "Epoch 12/15\n",
      "\u001b[1m63/63\u001b[0m \u001b[32m━━━━━━━━━━━━━━━━━━━━\u001b[0m\u001b[37m\u001b[0m \u001b[1m18s\u001b[0m 282ms/step - accuracy: 0.5142 - loss: 1.6357 - val_accuracy: 0.4882 - val_loss: 1.7594\n",
      "Epoch 13/15\n",
      "\u001b[1m63/63\u001b[0m \u001b[32m━━━━━━━━━━━━━━━━━━━━\u001b[0m\u001b[37m\u001b[0m \u001b[1m17s\u001b[0m 267ms/step - accuracy: 0.5245 - loss: 1.5955 - val_accuracy: 0.4746 - val_loss: 1.7782\n",
      "Epoch 14/15\n",
      "\u001b[1m63/63\u001b[0m \u001b[32m━━━━━━━━━━━━━━━━━━━━\u001b[0m\u001b[37m\u001b[0m \u001b[1m17s\u001b[0m 264ms/step - accuracy: 0.5296 - loss: 1.5713 - val_accuracy: 0.4946 - val_loss: 1.7301\n",
      "Epoch 15/15\n",
      "\u001b[1m63/63\u001b[0m \u001b[32m━━━━━━━━━━━━━━━━━━━━\u001b[0m\u001b[37m\u001b[0m \u001b[1m17s\u001b[0m 268ms/step - accuracy: 0.5327 - loss: 1.5462 - val_accuracy: 0.5014 - val_loss: 1.7252\n"
     ]
    },
    {
     "data": {
      "text/plain": [
       "<keras.src.callbacks.history.History at 0x26818c05a30>"
      ]
     },
     "execution_count": 29,
     "metadata": {},
     "output_type": "execute_result"
    }
   ],
   "source": [
    "# Assuming you have training_data and validation_data\n",
    "model.fit(preprocessed_images_array1,one_hot_encoded_array1, batch_size= 32, epochs= 15, validation_data=[preprocessed_images_array2, one_hot_encoded_array2])\n"
   ]
  },
  {
   "cell_type": "code",
   "execution_count": 30,
   "id": "7ee7af54-3ec9-443c-bdd2-bb31aebf91cc",
   "metadata": {},
   "outputs": [
    {
     "ename": "AttributeError",
     "evalue": "Can't pickle local object 'Layer._initialize_tracker.<locals>.<lambda>'",
     "output_type": "error",
     "traceback": [
      "\u001b[1;31m---------------------------------------------------------------------------\u001b[0m",
      "\u001b[1;31mAttributeError\u001b[0m                            Traceback (most recent call last)",
      "Cell \u001b[1;32mIn[30], line 4\u001b[0m\n\u001b[0;32m      2\u001b[0m file_path \u001b[38;5;241m=\u001b[39m \u001b[38;5;124m\"\u001b[39m\u001b[38;5;124mtextrecognition_model(2000,200,500).pkl\u001b[39m\u001b[38;5;124m\"\u001b[39m\n\u001b[0;32m      3\u001b[0m \u001b[38;5;28;01mwith\u001b[39;00m \u001b[38;5;28mopen\u001b[39m(file_path, \u001b[38;5;124m'\u001b[39m\u001b[38;5;124mwb\u001b[39m\u001b[38;5;124m'\u001b[39m) \u001b[38;5;28;01mas\u001b[39;00m f:\n\u001b[1;32m----> 4\u001b[0m     \u001b[43mpickle\u001b[49m\u001b[38;5;241;43m.\u001b[39;49m\u001b[43mdump\u001b[49m\u001b[43m(\u001b[49m\u001b[43mmodel\u001b[49m\u001b[43m,\u001b[49m\u001b[43m \u001b[49m\u001b[43mf\u001b[49m\u001b[43m)\u001b[49m\n",
      "\u001b[1;31mAttributeError\u001b[0m: Can't pickle local object 'Layer._initialize_tracker.<locals>.<lambda>'"
     ]
    }
   ],
   "source": [
    "import pickle\n",
    "file_path = \"textrecognition_model(2000,200,500).pkl\"\n",
    "with open(file_path, 'wb') as f:\n",
    "    pickle.dump(model, f)"
   ]
  },
  {
   "cell_type": "code",
   "execution_count": null,
   "id": "bf630708-ee78-42d2-9866-4f1901ec8b4c",
   "metadata": {},
   "outputs": [],
   "source": [
    "y_pred=model.predict(preprocessed_images_array3)"
   ]
  },
  {
   "cell_type": "code",
   "execution_count": null,
   "id": "ce8f49a8-af6d-49a4-b5f6-19b7bccda2b3",
   "metadata": {},
   "outputs": [],
   "source": [
    "y_pred.shape"
   ]
  },
  {
   "cell_type": "code",
   "execution_count": null,
   "id": "bb1bb6a4-bfde-4c47-ab09-aa658e225f3e",
   "metadata": {},
   "outputs": [],
   "source": [
    "char_to_index = {char: i for i, char in enumerate(vocabulary)}\n",
    "index_to_char = {i: char for char, i in char_to_index.items()}"
   ]
  },
  {
   "cell_type": "code",
   "execution_count": null,
   "id": "cf7117e2-d043-4756-83f7-803a2098b52d",
   "metadata": {},
   "outputs": [],
   "source": [
    "print(\"character to index:\",char_to_index,\"\\n\")\n",
    "print(\"index to charcater:\",index_to_char,\"\\n\")"
   ]
  },
  {
   "cell_type": "code",
   "execution_count": null,
   "id": "4a436ffa-512f-4c09-b59f-5ac07ea55de0",
   "metadata": {},
   "outputs": [],
   "source": [
    "def unpad_sequence(seq):\n",
    "    return [index for index in seq if index != 0]"
   ]
  },
  {
   "cell_type": "code",
   "execution_count": null,
   "id": "3614b5d1-8e24-4c87-83fd-7ff6df26d752",
   "metadata": {},
   "outputs": [],
   "source": [
    "def custom_ctc_decoder(actual,pred):\n",
    "    pred_list = np.argmax(pred, axis=-1)\n",
    "    actual_list = np.argmax(actual, axis=-1)\n",
    "    decoded_pred_list = [[index_to_char[index] for index in unpad_sequence(seq)] for seq in pred_list]\n",
    "    decoded_pred_list = [''.join(word) for word in decoded_pred_list]\n",
    "    decoded_actual_list = [[index_to_char[index] for index in unpad_sequence(seq)] for seq in actual_list]\n",
    "    decoded_actual_list = [''.join(word) for word in decoded_actual_list]\n",
    "    return decoded_actual_list,decoded_pred_list"
   ]
  },
  {
   "cell_type": "code",
   "execution_count": null,
   "id": "bce96f42-8cc5-4a67-87a2-14fe802a6345",
   "metadata": {},
   "outputs": [],
   "source": [
    "act,pred=custom_ctc_decoder(one_hot_encoded_array1,y_pred)"
   ]
  },
  {
   "cell_type": "code",
   "execution_count": null,
   "id": "7634e6f9-e04f-4c62-9208-c0f434794409",
   "metadata": {},
   "outputs": [],
   "source": [
    "act"
   ]
  },
  {
   "cell_type": "code",
   "execution_count": null,
   "id": "fcd17add-50f4-4d27-a195-10bbac62edaf",
   "metadata": {},
   "outputs": [],
   "source": []
  }
 ],
 "metadata": {
  "kernelspec": {
   "display_name": "Python 3 (ipykernel)",
   "language": "python",
   "name": "python3"
  },
  "language_info": {
   "codemirror_mode": {
    "name": "ipython",
    "version": 3
   },
   "file_extension": ".py",
   "mimetype": "text/x-python",
   "name": "python",
   "nbconvert_exporter": "python",
   "pygments_lexer": "ipython3",
   "version": "3.12.3"
  }
 },
 "nbformat": 4,
 "nbformat_minor": 5
}
